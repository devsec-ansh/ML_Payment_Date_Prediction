{
 "cells": [
  {
   "cell_type": "code",
   "execution_count": 1,
   "id": "8c5c709c",
   "metadata": {},
   "outputs": [],
   "source": [
    "#Anshuman Prakash\n",
    "\n",
    "import pandas as pd\n",
    "import numpy as nm\n",
    "import matplotlib.pyplot as plt\n",
    "import seaborn as sns\n",
    "import sklearn\n",
    "\n",
    "import warnings\n",
    "warnings.filterwarnings(\"ignore\")\n",
    "\n",
    "daf = pd.read_csv(\"Dataset.csv\")"
   ]
  },
  {
   "cell_type": "markdown",
   "id": "f6fbeafb",
   "metadata": {},
   "source": [
    "## Preprocessing"
   ]
  },
  {
   "cell_type": "code",
   "execution_count": 2,
   "id": "feffa92b",
   "metadata": {},
   "outputs": [
    {
     "data": {
      "text/html": [
       "<div>\n",
       "<style scoped>\n",
       "    .dataframe tbody tr th:only-of-type {\n",
       "        vertical-align: middle;\n",
       "    }\n",
       "\n",
       "    .dataframe tbody tr th {\n",
       "        vertical-align: top;\n",
       "    }\n",
       "\n",
       "    .dataframe thead th {\n",
       "        text-align: right;\n",
       "    }\n",
       "</style>\n",
       "<table border=\"1\" class=\"dataframe\">\n",
       "  <thead>\n",
       "    <tr style=\"text-align: right;\">\n",
       "      <th></th>\n",
       "      <th>business_code</th>\n",
       "      <th>cust_number</th>\n",
       "      <th>name_customer</th>\n",
       "      <th>clear_date</th>\n",
       "      <th>buisness_year</th>\n",
       "      <th>doc_id</th>\n",
       "      <th>posting_date</th>\n",
       "      <th>document_create_date</th>\n",
       "      <th>document_create_date.1</th>\n",
       "      <th>due_in_date</th>\n",
       "      <th>invoice_currency</th>\n",
       "      <th>document type</th>\n",
       "      <th>posting_id</th>\n",
       "      <th>area_business</th>\n",
       "      <th>total_open_amount</th>\n",
       "      <th>baseline_create_date</th>\n",
       "      <th>cust_payment_terms</th>\n",
       "      <th>invoice_id</th>\n",
       "      <th>isOpen</th>\n",
       "    </tr>\n",
       "  </thead>\n",
       "  <tbody>\n",
       "    <tr>\n",
       "      <th>0</th>\n",
       "      <td>U001</td>\n",
       "      <td>0200762301</td>\n",
       "      <td>C&amp;S WH us</td>\n",
       "      <td>2019-01-31 00:00:00</td>\n",
       "      <td>2019.0</td>\n",
       "      <td>1.928636e+09</td>\n",
       "      <td>2019-01-16</td>\n",
       "      <td>20190117</td>\n",
       "      <td>20190116</td>\n",
       "      <td>20190131.0</td>\n",
       "      <td>USD</td>\n",
       "      <td>RV</td>\n",
       "      <td>1.0</td>\n",
       "      <td>NaN</td>\n",
       "      <td>56866.25</td>\n",
       "      <td>20190116.0</td>\n",
       "      <td>NAC6</td>\n",
       "      <td>1.928636e+09</td>\n",
       "      <td>0</td>\n",
       "    </tr>\n",
       "    <tr>\n",
       "      <th>1</th>\n",
       "      <td>U001</td>\n",
       "      <td>0200707822</td>\n",
       "      <td>PUBLI us</td>\n",
       "      <td>2019-06-05 00:00:00</td>\n",
       "      <td>2019.0</td>\n",
       "      <td>1.929359e+09</td>\n",
       "      <td>2019-05-21</td>\n",
       "      <td>20190522</td>\n",
       "      <td>20190521</td>\n",
       "      <td>20190605.0</td>\n",
       "      <td>USD</td>\n",
       "      <td>RV</td>\n",
       "      <td>1.0</td>\n",
       "      <td>NaN</td>\n",
       "      <td>21547.98</td>\n",
       "      <td>20190521.0</td>\n",
       "      <td>NAA8</td>\n",
       "      <td>1.929359e+09</td>\n",
       "      <td>0</td>\n",
       "    </tr>\n",
       "    <tr>\n",
       "      <th>2</th>\n",
       "      <td>U001</td>\n",
       "      <td>0200769623</td>\n",
       "      <td>WAL-MAR trust</td>\n",
       "      <td>NaN</td>\n",
       "      <td>2020.0</td>\n",
       "      <td>1.930585e+09</td>\n",
       "      <td>2020-03-02</td>\n",
       "      <td>20200301</td>\n",
       "      <td>20200302</td>\n",
       "      <td>20200317.0</td>\n",
       "      <td>USD</td>\n",
       "      <td>RV</td>\n",
       "      <td>1.0</td>\n",
       "      <td>NaN</td>\n",
       "      <td>51859.80</td>\n",
       "      <td>20200302.0</td>\n",
       "      <td>NAH4</td>\n",
       "      <td>1.930585e+09</td>\n",
       "      <td>1</td>\n",
       "    </tr>\n",
       "    <tr>\n",
       "      <th>3</th>\n",
       "      <td>U001</td>\n",
       "      <td>0200700919</td>\n",
       "      <td>US  trust</td>\n",
       "      <td>2019-10-15 00:00:00</td>\n",
       "      <td>2019.0</td>\n",
       "      <td>1.929928e+09</td>\n",
       "      <td>2019-09-26</td>\n",
       "      <td>20190926</td>\n",
       "      <td>20190926</td>\n",
       "      <td>20191011.0</td>\n",
       "      <td>USD</td>\n",
       "      <td>RV</td>\n",
       "      <td>1.0</td>\n",
       "      <td>NaN</td>\n",
       "      <td>45008.37</td>\n",
       "      <td>20190926.0</td>\n",
       "      <td>NAA8</td>\n",
       "      <td>1.929928e+09</td>\n",
       "      <td>0</td>\n",
       "    </tr>\n",
       "    <tr>\n",
       "      <th>4</th>\n",
       "      <td>U001</td>\n",
       "      <td>0200762301</td>\n",
       "      <td>C&amp;S WH associates</td>\n",
       "      <td>2019-07-05 00:00:00</td>\n",
       "      <td>2019.0</td>\n",
       "      <td>1.929519e+09</td>\n",
       "      <td>2019-06-19</td>\n",
       "      <td>20190620</td>\n",
       "      <td>20190619</td>\n",
       "      <td>20190704.0</td>\n",
       "      <td>USD</td>\n",
       "      <td>RV</td>\n",
       "      <td>1.0</td>\n",
       "      <td>NaN</td>\n",
       "      <td>23498.74</td>\n",
       "      <td>20190619.0</td>\n",
       "      <td>NAC6</td>\n",
       "      <td>1.929519e+09</td>\n",
       "      <td>0</td>\n",
       "    </tr>\n",
       "  </tbody>\n",
       "</table>\n",
       "</div>"
      ],
      "text/plain": [
       "  business_code cust_number      name_customer           clear_date  \\\n",
       "0          U001  0200762301          C&S WH us  2019-01-31 00:00:00   \n",
       "1          U001  0200707822           PUBLI us  2019-06-05 00:00:00   \n",
       "2          U001  0200769623      WAL-MAR trust                  NaN   \n",
       "3          U001  0200700919          US  trust  2019-10-15 00:00:00   \n",
       "4          U001  0200762301  C&S WH associates  2019-07-05 00:00:00   \n",
       "\n",
       "   buisness_year        doc_id posting_date  document_create_date  \\\n",
       "0         2019.0  1.928636e+09   2019-01-16              20190117   \n",
       "1         2019.0  1.929359e+09   2019-05-21              20190522   \n",
       "2         2020.0  1.930585e+09   2020-03-02              20200301   \n",
       "3         2019.0  1.929928e+09   2019-09-26              20190926   \n",
       "4         2019.0  1.929519e+09   2019-06-19              20190620   \n",
       "\n",
       "   document_create_date.1  due_in_date invoice_currency document type  \\\n",
       "0                20190116   20190131.0              USD            RV   \n",
       "1                20190521   20190605.0              USD            RV   \n",
       "2                20200302   20200317.0              USD            RV   \n",
       "3                20190926   20191011.0              USD            RV   \n",
       "4                20190619   20190704.0              USD            RV   \n",
       "\n",
       "   posting_id  area_business  total_open_amount  baseline_create_date  \\\n",
       "0         1.0            NaN           56866.25            20190116.0   \n",
       "1         1.0            NaN           21547.98            20190521.0   \n",
       "2         1.0            NaN           51859.80            20200302.0   \n",
       "3         1.0            NaN           45008.37            20190926.0   \n",
       "4         1.0            NaN           23498.74            20190619.0   \n",
       "\n",
       "  cust_payment_terms    invoice_id  isOpen  \n",
       "0               NAC6  1.928636e+09       0  \n",
       "1               NAA8  1.929359e+09       0  \n",
       "2               NAH4  1.930585e+09       1  \n",
       "3               NAA8  1.929928e+09       0  \n",
       "4               NAC6  1.929519e+09       0  "
      ]
     },
     "execution_count": 2,
     "metadata": {},
     "output_type": "execute_result"
    }
   ],
   "source": [
    "daf.head()"
   ]
  },
  {
   "cell_type": "code",
   "execution_count": 3,
   "id": "1ab64e45",
   "metadata": {},
   "outputs": [],
   "source": [
    "daf=daf.drop(['area_business', #NaN values presentin whole column\n",
    "              'cust_number', #only 2 unique values present\n",
    "              'buisness_year', #only 2 unique values present\n",
    "              'posting_id', #only 1 unique values present\n",
    "              'doc_id', #not usefull column\n",
    "              'document type', #not usefull column\n",
    "              'document_create_date.1', #kept alternate column with almost same values\n",
    "              'invoice_id', #not usefull column\n",
    "              'isOpen', #not usefull column\n",
    "              'document_create_date','baseline_create_date'\n",
    "             ], axis = 1) #not usefull column"
   ]
  },
  {
   "cell_type": "markdown",
   "id": "c14a0f28",
   "metadata": {},
   "source": [
    "### Dropping duplicate rows"
   ]
  },
  {
   "cell_type": "code",
   "execution_count": 4,
   "id": "8e261195",
   "metadata": {},
   "outputs": [],
   "source": [
    "daf=daf.drop_duplicates(keep='first')"
   ]
  },
  {
   "cell_type": "markdown",
   "id": "46dc56f4",
   "metadata": {},
   "source": [
    "### Converting Datatypes"
   ]
  },
  {
   "cell_type": "code",
   "execution_count": 5,
   "id": "f2e30839",
   "metadata": {},
   "outputs": [
    {
     "data": {
      "text/html": [
       "<div>\n",
       "<style scoped>\n",
       "    .dataframe tbody tr th:only-of-type {\n",
       "        vertical-align: middle;\n",
       "    }\n",
       "\n",
       "    .dataframe tbody tr th {\n",
       "        vertical-align: top;\n",
       "    }\n",
       "\n",
       "    .dataframe thead th {\n",
       "        text-align: right;\n",
       "    }\n",
       "</style>\n",
       "<table border=\"1\" class=\"dataframe\">\n",
       "  <thead>\n",
       "    <tr style=\"text-align: right;\">\n",
       "      <th></th>\n",
       "      <th>business_code</th>\n",
       "      <th>name_customer</th>\n",
       "      <th>clear_date</th>\n",
       "      <th>posting_date</th>\n",
       "      <th>due_in_date</th>\n",
       "      <th>invoice_currency</th>\n",
       "      <th>total_open_amount</th>\n",
       "      <th>cust_payment_terms</th>\n",
       "    </tr>\n",
       "  </thead>\n",
       "  <tbody>\n",
       "    <tr>\n",
       "      <th>0</th>\n",
       "      <td>U001</td>\n",
       "      <td>C&amp;S WH us</td>\n",
       "      <td>2019-01-31</td>\n",
       "      <td>2019-01-16</td>\n",
       "      <td>2019-01-31</td>\n",
       "      <td>USD</td>\n",
       "      <td>56866.25</td>\n",
       "      <td>NAC6</td>\n",
       "    </tr>\n",
       "    <tr>\n",
       "      <th>1</th>\n",
       "      <td>U001</td>\n",
       "      <td>PUBLI us</td>\n",
       "      <td>2019-06-05</td>\n",
       "      <td>2019-05-21</td>\n",
       "      <td>2019-06-05</td>\n",
       "      <td>USD</td>\n",
       "      <td>21547.98</td>\n",
       "      <td>NAA8</td>\n",
       "    </tr>\n",
       "    <tr>\n",
       "      <th>2</th>\n",
       "      <td>U001</td>\n",
       "      <td>WAL-MAR trust</td>\n",
       "      <td>NaT</td>\n",
       "      <td>2020-03-02</td>\n",
       "      <td>2020-03-17</td>\n",
       "      <td>USD</td>\n",
       "      <td>51859.80</td>\n",
       "      <td>NAH4</td>\n",
       "    </tr>\n",
       "    <tr>\n",
       "      <th>3</th>\n",
       "      <td>U001</td>\n",
       "      <td>US  trust</td>\n",
       "      <td>2019-10-15</td>\n",
       "      <td>2019-09-26</td>\n",
       "      <td>2019-10-11</td>\n",
       "      <td>USD</td>\n",
       "      <td>45008.37</td>\n",
       "      <td>NAA8</td>\n",
       "    </tr>\n",
       "    <tr>\n",
       "      <th>4</th>\n",
       "      <td>U001</td>\n",
       "      <td>C&amp;S WH associates</td>\n",
       "      <td>2019-07-05</td>\n",
       "      <td>2019-06-19</td>\n",
       "      <td>2019-07-04</td>\n",
       "      <td>USD</td>\n",
       "      <td>23498.74</td>\n",
       "      <td>NAC6</td>\n",
       "    </tr>\n",
       "  </tbody>\n",
       "</table>\n",
       "</div>"
      ],
      "text/plain": [
       "  business_code      name_customer clear_date posting_date due_in_date  \\\n",
       "0          U001          C&S WH us 2019-01-31   2019-01-16  2019-01-31   \n",
       "1          U001           PUBLI us 2019-06-05   2019-05-21  2019-06-05   \n",
       "2          U001      WAL-MAR trust        NaT   2020-03-02  2020-03-17   \n",
       "3          U001          US  trust 2019-10-15   2019-09-26  2019-10-11   \n",
       "4          U001  C&S WH associates 2019-07-05   2019-06-19  2019-07-04   \n",
       "\n",
       "  invoice_currency  total_open_amount cust_payment_terms  \n",
       "0              USD           56866.25               NAC6  \n",
       "1              USD           21547.98               NAA8  \n",
       "2              USD           51859.80               NAH4  \n",
       "3              USD           45008.37               NAA8  \n",
       "4              USD           23498.74               NAC6  "
      ]
     },
     "execution_count": 5,
     "metadata": {},
     "output_type": "execute_result"
    }
   ],
   "source": [
    "daf['clear_date']=pd.to_datetime(daf['clear_date'])\n",
    "daf['posting_date'] = pd.to_datetime(daf['posting_date'], format='%Y-%m-%d')\n",
    "daf['due_in_date'] = pd.to_datetime(daf['due_in_date'], format='%Y%m%d')\n",
    "daf.head()"
   ]
  },
  {
   "cell_type": "markdown",
   "id": "d0072b41",
   "metadata": {},
   "source": [
    "### Splitting dataframe"
   ]
  },
  {
   "cell_type": "code",
   "execution_count": 6,
   "id": "604527f7",
   "metadata": {},
   "outputs": [
    {
     "data": {
      "text/plain": [
       "((39085, 8), (9667, 8))"
      ]
     },
     "execution_count": 6,
     "metadata": {},
     "output_type": "execute_result"
    }
   ],
   "source": [
    "main_train=daf[daf.clear_date.isnull()==False]\n",
    "main_test=daf[daf.clear_date.isnull()==True]\n",
    "main_train.shape, main_test.shape"
   ]
  },
  {
   "cell_type": "markdown",
   "id": "811e44eb",
   "metadata": {},
   "source": [
    "### Sorting"
   ]
  },
  {
   "cell_type": "code",
   "execution_count": 7,
   "id": "f07fc3b8",
   "metadata": {},
   "outputs": [],
   "source": [
    "main_train.sort_values(by=['posting_date'],inplace=True)"
   ]
  },
  {
   "cell_type": "markdown",
   "id": "5b8fa363",
   "metadata": {},
   "source": [
    "#### Created columns for delay1= clear_date - due_date"
   ]
  },
  {
   "cell_type": "code",
   "execution_count": 8,
   "id": "66509e32",
   "metadata": {},
   "outputs": [],
   "source": [
    "main_train['delay']=main_train.clear_date-main_train.due_in_date\n",
    "main_train['delay']=main_train['delay'].astype(str)\n",
    "main_train['delay'] = main_train['delay'].str.replace(' days', '')\n",
    "main_train['delay']=pd.to_numeric(main_train['delay'])"
   ]
  },
  {
   "cell_type": "code",
   "execution_count": 9,
   "id": "14317e51",
   "metadata": {},
   "outputs": [],
   "source": [
    "main_train['due_day']=main_train['due_in_date'].dt.day\n",
    "main_train['due_month']=main_train['due_in_date'].dt.month\n",
    "main_train['due_year']=main_train['due_in_date'].dt.year"
   ]
  },
  {
   "cell_type": "markdown",
   "id": "dec78546",
   "metadata": {},
   "source": [
    "# Split data"
   ]
  },
  {
   "cell_type": "code",
   "execution_count": 10,
   "id": "8f14c197",
   "metadata": {},
   "outputs": [],
   "source": [
    "X = main_train.drop('delay',axis=1)\n",
    "y = main_train['delay']"
   ]
  },
  {
   "cell_type": "code",
   "execution_count": 11,
   "id": "4e373629",
   "metadata": {},
   "outputs": [],
   "source": [
    "from sklearn.model_selection import train_test_split\n",
    "X_train,X_inter_test,y_train,y_inter_test = train_test_split(X,y,test_size=0.2,random_state=0 , shuffle = False)"
   ]
  },
  {
   "cell_type": "code",
   "execution_count": 12,
   "id": "75e14b83",
   "metadata": {},
   "outputs": [],
   "source": [
    "X_val,X_test,y_val,y_test = train_test_split(X_inter_test,y_inter_test,test_size=0.5,random_state=0 , shuffle = False)"
   ]
  },
  {
   "cell_type": "code",
   "execution_count": 13,
   "id": "491a4b1a",
   "metadata": {},
   "outputs": [
    {
     "data": {
      "text/plain": [
       "((31268, 11), (3908, 11), (3909, 11))"
      ]
     },
     "execution_count": 13,
     "metadata": {},
     "output_type": "execute_result"
    }
   ],
   "source": [
    "X_train.shape , X_val.shape , X_test.shape"
   ]
  },
  {
   "cell_type": "markdown",
   "id": "022ce7b5",
   "metadata": {},
   "source": [
    "# EDA"
   ]
  },
  {
   "cell_type": "code",
   "execution_count": 14,
   "id": "05adb19c",
   "metadata": {},
   "outputs": [
    {
     "data": {
      "text/plain": [
       "<AxesSubplot:xlabel='delay', ylabel='Density'>"
      ]
     },
     "execution_count": 14,
     "metadata": {},
     "output_type": "execute_result"
    },
    {
     "data": {
      "image/png": "[encoded data removed]",
      "text/plain": [
       "<Figure size 432x288 with 1 Axes>"
      ]
     },
     "metadata": {
      "needs_background": "light"
     },
     "output_type": "display_data"
    }
   ],
   "source": [
    "sns.distplot(y_train)"
   ]
  },
  {
   "cell_type": "code",
   "execution_count": 15,
   "id": "03fcb6e7",
   "metadata": {},
   "outputs": [
    {
     "data": {
      "text/plain": [
       "<AxesSubplot:xlabel='delay', ylabel='total_open_amount'>"
      ]
     },
     "execution_count": 15,
     "metadata": {},
     "output_type": "execute_result"
    },
    {
     "data": {
      "image/png": "[encoded data removed]",
      "text/plain": [
       "<Figure size 432x288 with 1 Axes>"
      ]
     },
     "metadata": {
      "needs_background": "light"
     },
     "output_type": "display_data"
    }
   ],
   "source": [
    "sns.scatterplot(data=X_train.merge(y_train,on = X_train.index), x=\"delay\", y=\"total_open_amount\")"
   ]
  },
  {
   "cell_type": "code",
   "execution_count": 16,
   "id": "43ec90cc",
   "metadata": {},
   "outputs": [
    {
     "data": {
      "text/html": [
       "<div>\n",
       "<style scoped>\n",
       "    .dataframe tbody tr th:only-of-type {\n",
       "        vertical-align: middle;\n",
       "    }\n",
       "\n",
       "    .dataframe tbody tr th {\n",
       "        vertical-align: top;\n",
       "    }\n",
       "\n",
       "    .dataframe thead th {\n",
       "        text-align: right;\n",
       "    }\n",
       "</style>\n",
       "<table border=\"1\" class=\"dataframe\">\n",
       "  <thead>\n",
       "    <tr style=\"text-align: right;\">\n",
       "      <th></th>\n",
       "      <th>business_code</th>\n",
       "      <th>name_customer</th>\n",
       "      <th>clear_date</th>\n",
       "      <th>posting_date</th>\n",
       "      <th>due_in_date</th>\n",
       "      <th>invoice_currency</th>\n",
       "      <th>total_open_amount</th>\n",
       "      <th>cust_payment_terms</th>\n",
       "      <th>delay</th>\n",
       "      <th>due_day</th>\n",
       "      <th>due_month</th>\n",
       "      <th>due_year</th>\n",
       "    </tr>\n",
       "  </thead>\n",
       "  <tbody>\n",
       "    <tr>\n",
       "      <th>12505</th>\n",
       "      <td>U001</td>\n",
       "      <td>FR corp</td>\n",
       "      <td>2019-01-14</td>\n",
       "      <td>2018-12-30</td>\n",
       "      <td>2019-01-14</td>\n",
       "      <td>USD</td>\n",
       "      <td>11539.68</td>\n",
       "      <td>NAA8</td>\n",
       "      <td>0</td>\n",
       "      <td>14</td>\n",
       "      <td>1</td>\n",
       "      <td>2019</td>\n",
       "    </tr>\n",
       "    <tr>\n",
       "      <th>35705</th>\n",
       "      <td>U001</td>\n",
       "      <td>BJ'S  trust</td>\n",
       "      <td>2019-01-15</td>\n",
       "      <td>2018-12-30</td>\n",
       "      <td>2019-01-14</td>\n",
       "      <td>USD</td>\n",
       "      <td>164.70</td>\n",
       "      <td>NAA8</td>\n",
       "      <td>1</td>\n",
       "      <td>14</td>\n",
       "      <td>1</td>\n",
       "      <td>2019</td>\n",
       "    </tr>\n",
       "    <tr>\n",
       "      <th>22457</th>\n",
       "      <td>U001</td>\n",
       "      <td>COST co</td>\n",
       "      <td>2019-01-16</td>\n",
       "      <td>2018-12-30</td>\n",
       "      <td>2019-01-14</td>\n",
       "      <td>USD</td>\n",
       "      <td>1824.84</td>\n",
       "      <td>NAAX</td>\n",
       "      <td>2</td>\n",
       "      <td>14</td>\n",
       "      <td>1</td>\n",
       "      <td>2019</td>\n",
       "    </tr>\n",
       "    <tr>\n",
       "      <th>33531</th>\n",
       "      <td>U001</td>\n",
       "      <td>ALBERT foundation</td>\n",
       "      <td>2019-01-15</td>\n",
       "      <td>2018-12-30</td>\n",
       "      <td>2019-01-14</td>\n",
       "      <td>USD</td>\n",
       "      <td>96847.89</td>\n",
       "      <td>NAA8</td>\n",
       "      <td>1</td>\n",
       "      <td>14</td>\n",
       "      <td>1</td>\n",
       "      <td>2019</td>\n",
       "    </tr>\n",
       "    <tr>\n",
       "      <th>7192</th>\n",
       "      <td>U001</td>\n",
       "      <td>WAL-MAR corp</td>\n",
       "      <td>2019-01-09</td>\n",
       "      <td>2018-12-30</td>\n",
       "      <td>2019-01-14</td>\n",
       "      <td>USD</td>\n",
       "      <td>22222.17</td>\n",
       "      <td>NAH4</td>\n",
       "      <td>-5</td>\n",
       "      <td>14</td>\n",
       "      <td>1</td>\n",
       "      <td>2019</td>\n",
       "    </tr>\n",
       "  </tbody>\n",
       "</table>\n",
       "</div>"
      ],
      "text/plain": [
       "      business_code      name_customer clear_date posting_date due_in_date  \\\n",
       "12505          U001            FR corp 2019-01-14   2018-12-30  2019-01-14   \n",
       "35705          U001        BJ'S  trust 2019-01-15   2018-12-30  2019-01-14   \n",
       "22457          U001            COST co 2019-01-16   2018-12-30  2019-01-14   \n",
       "33531          U001  ALBERT foundation 2019-01-15   2018-12-30  2019-01-14   \n",
       "7192           U001       WAL-MAR corp 2019-01-09   2018-12-30  2019-01-14   \n",
       "\n",
       "      invoice_currency  total_open_amount cust_payment_terms  delay  due_day  \\\n",
       "12505              USD           11539.68               NAA8      0       14   \n",
       "35705              USD             164.70               NAA8      1       14   \n",
       "22457              USD            1824.84               NAAX      2       14   \n",
       "33531              USD           96847.89               NAA8      1       14   \n",
       "7192               USD           22222.17               NAH4     -5       14   \n",
       "\n",
       "       due_month  due_year  \n",
       "12505          1      2019  \n",
       "35705          1      2019  \n",
       "22457          1      2019  \n",
       "33531          1      2019  \n",
       "7192           1      2019  "
      ]
     },
     "execution_count": 16,
     "metadata": {},
     "output_type": "execute_result"
    }
   ],
   "source": [
    "main_train.head()"
   ]
  },
  {
   "cell_type": "markdown",
   "id": "9d23c9d7",
   "metadata": {},
   "source": [
    "# Feature Engineering"
   ]
  },
  {
   "cell_type": "code",
   "execution_count": 17,
   "id": "9229f8e7",
   "metadata": {},
   "outputs": [
    {
     "name": "stdout",
     "output_type": "stream",
     "text": [
      "<class 'pandas.core.frame.DataFrame'>\n",
      "Int64Index: 31268 entries, 12505 to 3081\n",
      "Data columns (total 11 columns):\n",
      " #   Column              Non-Null Count  Dtype         \n",
      "---  ------              --------------  -----         \n",
      " 0   business_code       31268 non-null  object        \n",
      " 1   name_customer       31268 non-null  object        \n",
      " 2   clear_date          31268 non-null  datetime64[ns]\n",
      " 3   posting_date        31268 non-null  datetime64[ns]\n",
      " 4   due_in_date         31268 non-null  datetime64[ns]\n",
      " 5   invoice_currency    31268 non-null  object        \n",
      " 6   total_open_amount   31268 non-null  float64       \n",
      " 7   cust_payment_terms  31268 non-null  object        \n",
      " 8   due_day             31268 non-null  int64         \n",
      " 9   due_month           31268 non-null  int64         \n",
      " 10  due_year            31268 non-null  int64         \n",
      "dtypes: datetime64[ns](3), float64(1), int64(3), object(4)\n",
      "memory usage: 2.9+ MB\n"
     ]
    }
   ],
   "source": [
    "X_train.info()"
   ]
  },
  {
   "cell_type": "markdown",
   "id": "0d796d95",
   "metadata": {},
   "source": [
    "#### Encoding business code"
   ]
  },
  {
   "cell_type": "code",
   "execution_count": 18,
   "id": "fa8c892c",
   "metadata": {},
   "outputs": [],
   "source": [
    "from sklearn.preprocessing import LabelEncoder\n",
    "business_encoder = LabelEncoder()\n",
    "business_encoder.fit(X_train['business_code'])\n",
    "X_train['b_enc'] = business_encoder.transform(X_train['business_code'])\n",
    "X_val['b_enc'] = business_encoder.transform(X_val['business_code'])\n",
    "X_test['b_enc'] = business_encoder.transform(X_test['business_code'])\n",
    "\n",
    "X_train.drop(['business_code'], axis =1,inplace=True)\n",
    "X_val.drop(['business_code'],axis=1 , inplace=True)\n",
    "X_test.drop(['business_code'],axis=1 , inplace=True)"
   ]
  },
  {
   "cell_type": "markdown",
   "id": "6d89b7ce",
   "metadata": {},
   "source": [
    "#### Encodng payment terms"
   ]
  },
  {
   "cell_type": "code",
   "execution_count": 19,
   "id": "80e7024d",
   "metadata": {},
   "outputs": [],
   "source": [
    "from sklearn.preprocessing import LabelEncoder\n",
    "terms_encoder = LabelEncoder()\n",
    "\n",
    "terms_encoder.fit(X_train['cust_payment_terms'])\n",
    "X_train['terms_enc'] = terms_encoder.transform(X_train['cust_payment_terms'])\n",
    "\n",
    "terms_encoder.fit(X_val['cust_payment_terms'])\n",
    "X_val['terms_enc'] = terms_encoder.transform(X_val['cust_payment_terms'])\n",
    "\n",
    "terms_encoder.fit(X_test['cust_payment_terms'])\n",
    "X_test['terms_enc'] = terms_encoder.transform(X_test['cust_payment_terms'])\n",
    "\n",
    "X_train.drop(['cust_payment_terms'],axis =1,inplace=True)\n",
    "X_val.drop(['cust_payment_terms'],axis=1 , inplace=True)\n",
    "X_test.drop(['cust_payment_terms'],axis=1 , inplace=True)"
   ]
  },
  {
   "cell_type": "markdown",
   "id": "ed8a33fd",
   "metadata": {},
   "source": [
    "#### Encoding name"
   ]
  },
  {
   "cell_type": "code",
   "execution_count": 20,
   "id": "56c0e19c",
   "metadata": {},
   "outputs": [],
   "source": [
    "from sklearn.preprocessing import LabelEncoder\n",
    "name_encoder = LabelEncoder()\n",
    "\n",
    "name_encoder.fit(X_train['name_customer'])\n",
    "X_train['name_enc'] = name_encoder.transform(X_train['name_customer'])\n",
    "\n",
    "name_encoder.fit(X_val['name_customer'])\n",
    "X_val['name_enc'] = name_encoder.transform(X_val['name_customer'])\n",
    "\n",
    "name_encoder.fit(X_test['name_customer'])\n",
    "X_test['name_enc'] = name_encoder.transform(X_test['name_customer'])\n",
    "\n",
    "X_train.drop(['name_customer'],axis =1,inplace=True)\n",
    "X_val.drop(['name_customer'],axis=1 , inplace=True)\n",
    "X_test.drop(['name_customer'],axis=1 , inplace=True)"
   ]
  },
  {
   "cell_type": "markdown",
   "id": "0703cfe5",
   "metadata": {},
   "source": [
    "#### Encoding currency"
   ]
  },
  {
   "cell_type": "code",
   "execution_count": 21,
   "id": "d76b804e",
   "metadata": {},
   "outputs": [],
   "source": [
    "from sklearn.preprocessing import LabelEncoder\n",
    "curr_encoder = LabelEncoder()\n",
    "\n",
    "curr_encoder.fit(X_train['invoice_currency'])\n",
    "X_train['curr_enc'] = curr_encoder.transform(X_train['invoice_currency'])\n",
    "\n",
    "curr_encoder.fit(X_val['invoice_currency'])\n",
    "X_val['curr_enc'] = curr_encoder.transform(X_val['invoice_currency'])\n",
    "\n",
    "curr_encoder.fit(X_test['invoice_currency'])\n",
    "X_test['curr_enc'] = curr_encoder.transform(X_test['invoice_currency'])\n",
    "\n",
    "X_train.drop(['invoice_currency'],axis=1,inplace=True)\n",
    "X_val.drop(['invoice_currency'],axis=1 , inplace=True)\n",
    "X_test.drop(['invoice_currency'],axis=1 , inplace=True)"
   ]
  },
  {
   "cell_type": "markdown",
   "id": "14806043",
   "metadata": {},
   "source": [
    "### Dropping clear_date, posting_date, due_in_date"
   ]
  },
  {
   "cell_type": "code",
   "execution_count": 22,
   "id": "62211562",
   "metadata": {},
   "outputs": [],
   "source": [
    "X_train.drop(['clear_date'],axis=1,inplace=True)\n",
    "X_val.drop(['clear_date'],axis=1 , inplace=True)\n",
    "X_test.drop(['clear_date'],axis=1 , inplace=True)"
   ]
  },
  {
   "cell_type": "code",
   "execution_count": 23,
   "id": "13798437",
   "metadata": {},
   "outputs": [],
   "source": [
    "X_train.drop(['posting_date'],axis =1,inplace=True)\n",
    "X_val.drop(['posting_date'],axis=1 , inplace=True)\n",
    "X_test.drop(['posting_date'],axis=1 , inplace=True)"
   ]
  },
  {
   "cell_type": "code",
   "execution_count": 24,
   "id": "2670d88c",
   "metadata": {},
   "outputs": [],
   "source": [
    "X_train.drop(['due_in_date'],axis =1,inplace=True)\n",
    "X_val.drop(['due_in_date'],axis=1 , inplace=True)\n",
    "X_test.drop(['due_in_date'],axis=1 , inplace=True)"
   ]
  },
  {
   "cell_type": "code",
   "execution_count": 25,
   "id": "5f97d5d3",
   "metadata": {},
   "outputs": [
    {
     "data": {
      "text/html": [
       "<div>\n",
       "<style scoped>\n",
       "    .dataframe tbody tr th:only-of-type {\n",
       "        vertical-align: middle;\n",
       "    }\n",
       "\n",
       "    .dataframe tbody tr th {\n",
       "        vertical-align: top;\n",
       "    }\n",
       "\n",
       "    .dataframe thead th {\n",
       "        text-align: right;\n",
       "    }\n",
       "</style>\n",
       "<table border=\"1\" class=\"dataframe\">\n",
       "  <thead>\n",
       "    <tr style=\"text-align: right;\">\n",
       "      <th></th>\n",
       "      <th>total_open_amount</th>\n",
       "      <th>due_day</th>\n",
       "      <th>due_month</th>\n",
       "      <th>due_year</th>\n",
       "      <th>b_enc</th>\n",
       "      <th>terms_enc</th>\n",
       "      <th>name_enc</th>\n",
       "      <th>curr_enc</th>\n",
       "    </tr>\n",
       "  </thead>\n",
       "  <tbody>\n",
       "    <tr>\n",
       "      <th>12505</th>\n",
       "      <td>11539.68</td>\n",
       "      <td>14</td>\n",
       "      <td>1</td>\n",
       "      <td>2019</td>\n",
       "      <td>1</td>\n",
       "      <td>20</td>\n",
       "      <td>1174</td>\n",
       "      <td>1</td>\n",
       "    </tr>\n",
       "    <tr>\n",
       "      <th>35705</th>\n",
       "      <td>164.70</td>\n",
       "      <td>14</td>\n",
       "      <td>1</td>\n",
       "      <td>2019</td>\n",
       "      <td>1</td>\n",
       "      <td>20</td>\n",
       "      <td>382</td>\n",
       "      <td>1</td>\n",
       "    </tr>\n",
       "    <tr>\n",
       "      <th>22457</th>\n",
       "      <td>1824.84</td>\n",
       "      <td>14</td>\n",
       "      <td>1</td>\n",
       "      <td>2019</td>\n",
       "      <td>1</td>\n",
       "      <td>22</td>\n",
       "      <td>715</td>\n",
       "      <td>1</td>\n",
       "    </tr>\n",
       "    <tr>\n",
       "      <th>33531</th>\n",
       "      <td>96847.89</td>\n",
       "      <td>14</td>\n",
       "      <td>1</td>\n",
       "      <td>2019</td>\n",
       "      <td>1</td>\n",
       "      <td>20</td>\n",
       "      <td>85</td>\n",
       "      <td>1</td>\n",
       "    </tr>\n",
       "    <tr>\n",
       "      <th>7192</th>\n",
       "      <td>22222.17</td>\n",
       "      <td>14</td>\n",
       "      <td>1</td>\n",
       "      <td>2019</td>\n",
       "      <td>1</td>\n",
       "      <td>33</td>\n",
       "      <td>3478</td>\n",
       "      <td>1</td>\n",
       "    </tr>\n",
       "  </tbody>\n",
       "</table>\n",
       "</div>"
      ],
      "text/plain": [
       "       total_open_amount  due_day  due_month  due_year  b_enc  terms_enc  \\\n",
       "12505           11539.68       14          1      2019      1         20   \n",
       "35705             164.70       14          1      2019      1         20   \n",
       "22457            1824.84       14          1      2019      1         22   \n",
       "33531           96847.89       14          1      2019      1         20   \n",
       "7192            22222.17       14          1      2019      1         33   \n",
       "\n",
       "       name_enc  curr_enc  \n",
       "12505      1174         1  \n",
       "35705       382         1  \n",
       "22457       715         1  \n",
       "33531        85         1  \n",
       "7192       3478         1  "
      ]
     },
     "execution_count": 25,
     "metadata": {},
     "output_type": "execute_result"
    }
   ],
   "source": [
    "X_train.head()"
   ]
  },
  {
   "cell_type": "code",
   "execution_count": 26,
   "id": "c4aa3596",
   "metadata": {},
   "outputs": [],
   "source": [
    "X_train['total_open_amount']=X_train['total_open_amount'].astype(int)\n",
    "X_val['total_open_amount']=X_val['total_open_amount'].astype(int)\n",
    "X_test['total_open_amount']=X_test['total_open_amount'].astype(int)"
   ]
  },
  {
   "cell_type": "markdown",
   "id": "11b488e1",
   "metadata": {},
   "source": [
    "# Feature Selection"
   ]
  },
  {
   "cell_type": "code",
   "execution_count": 27,
   "id": "cb7d0836",
   "metadata": {},
   "outputs": [
    {
     "data": {
      "text/plain": [
       "<AxesSubplot:>"
      ]
     },
     "execution_count": 27,
     "metadata": {},
     "output_type": "execute_result"
    },
    {
     "data": {
      "image/png": "[encoded data removed]",
      "text/plain": [
       "<Figure size 1008x864 with 2 Axes>"
      ]
     },
     "metadata": {
      "needs_background": "light"
     },
     "output_type": "display_data"
    }
   ],
   "source": [
    "colormap = plt.cm.RdBu\n",
    "plt.figure(figsize=(14,12))\n",
    "plt.title('', y=1.05, size=15)\n",
    "sns.heatmap(X_train.merge(y_train , on = X_train.index ).corr(),linewidths=0.1,vmax=1.0, \n",
    "            square=True, cmap=colormap, linecolor='white', annot=True)"
   ]
  },
  {
   "cell_type": "markdown",
   "id": "43d8d8a7",
   "metadata": {},
   "source": [
    " # Decision Tree based model"
   ]
  },
  {
   "cell_type": "code",
   "execution_count": 28,
   "id": "d2a420cf",
   "metadata": {},
   "outputs": [],
   "source": [
    "from sklearn.tree import DecisionTreeRegressor\n",
    "regressor = DecisionTreeRegressor(random_state=0 , max_depth=8)\n",
    "\n",
    "regressor.fit(X_train, y_train)\n",
    "\n",
    "y_predict = regressor.predict(X_val)"
   ]
  },
  {
   "cell_type": "code",
   "execution_count": 29,
   "id": "12c58807",
   "metadata": {},
   "outputs": [
    {
     "data": {
      "text/plain": [
       "8.87255588607735"
      ]
     },
     "execution_count": 29,
     "metadata": {},
     "output_type": "execute_result"
    }
   ],
   "source": [
    "from sklearn.metrics import mean_squared_error\n",
    "\n",
    "mean_squared_error(y_val, y_predict, squared=False)"
   ]
  },
  {
   "cell_type": "code",
   "execution_count": 30,
   "id": "77e0b45a",
   "metadata": {},
   "outputs": [
    {
     "data": {
      "text/plain": [
       "11.544379603828434"
      ]
     },
     "execution_count": 30,
     "metadata": {},
     "output_type": "execute_result"
    }
   ],
   "source": [
    "y_predict_test = regressor.predict(X_test)\n",
    "mean_squared_error(y_test, y_predict_test, squared=False)"
   ]
  },
  {
   "cell_type": "markdown",
   "id": "9a0e1607",
   "metadata": {},
   "source": [
    "### Preprocessing on main_test"
   ]
  },
  {
   "cell_type": "code",
   "execution_count": 31,
   "id": "43437540",
   "metadata": {},
   "outputs": [],
   "source": [
    "main_test.sort_values(by=['posting_date'],inplace=True)"
   ]
  },
  {
   "cell_type": "code",
   "execution_count": 32,
   "id": "a08b5d1a",
   "metadata": {},
   "outputs": [],
   "source": [
    "main_test['delay']=main_test.clear_date-main_test.due_in_date\n",
    "main_test['delay']=main_test['delay'].astype(str)\n",
    "main_test['delay']=main_test['delay'].str.replace(' days', '')\n",
    "main_test['delay']=pd.to_numeric(main_train['delay'])"
   ]
  },
  {
   "cell_type": "code",
   "execution_count": 33,
   "id": "f37a02ed",
   "metadata": {},
   "outputs": [],
   "source": [
    "main_test['due_day']=main_test['due_in_date'].dt.day\n",
    "main_test['due_month']=main_test['due_in_date'].dt.month\n",
    "main_test['due_year']=main_test['due_in_date'].dt.year"
   ]
  },
  {
   "cell_type": "markdown",
   "id": "ad0b4e2b",
   "metadata": {},
   "source": [
    "### Dropping target column from main_test"
   ]
  },
  {
   "cell_type": "code",
   "execution_count": 34,
   "id": "01c81834",
   "metadata": {},
   "outputs": [],
   "source": [
    "X_maintest = main_test.drop(['delay'],axis=1)\n",
    "main_test.drop(['delay'], inplace =True,axis=1)"
   ]
  },
  {
   "cell_type": "markdown",
   "id": "99c011d1",
   "metadata": {},
   "source": [
    "### Feature engineering on X_maintest"
   ]
  },
  {
   "cell_type": "code",
   "execution_count": 35,
   "id": "46c44d9d",
   "metadata": {},
   "outputs": [],
   "source": [
    "business_encoder.fit(X_maintest['business_code'])\n",
    "X_maintest['b_enc'] = business_encoder.transform(X_maintest['business_code'])\n",
    "X_maintest.drop(['business_code'],axis=1 , inplace=True)"
   ]
  },
  {
   "cell_type": "code",
   "execution_count": 36,
   "id": "b7208945",
   "metadata": {},
   "outputs": [],
   "source": [
    "terms_encoder.fit(X_maintest['cust_payment_terms'])\n",
    "X_maintest['terms_enc'] = terms_encoder.transform(X_maintest['cust_payment_terms'])\n",
    "X_maintest.drop(['cust_payment_terms'],axis=1 , inplace=True)"
   ]
  },
  {
   "cell_type": "code",
   "execution_count": 37,
   "id": "442dda61",
   "metadata": {},
   "outputs": [],
   "source": [
    "name_encoder.fit(X_maintest['name_customer'])\n",
    "X_maintest['name_enc'] = name_encoder.transform(X_maintest['name_customer'])\n",
    "X_maintest.drop(['name_customer'],axis=1 , inplace=True)"
   ]
  },
  {
   "cell_type": "code",
   "execution_count": 38,
   "id": "e6eafa85",
   "metadata": {},
   "outputs": [],
   "source": [
    "curr_encoder.fit(X_maintest['invoice_currency'])\n",
    "X_maintest['curr_enc'] = curr_encoder.transform(X_maintest['invoice_currency'])\n",
    "X_maintest.drop(['invoice_currency'],axis=1 , inplace=True)"
   ]
  },
  {
   "cell_type": "code",
   "execution_count": 39,
   "id": "6de24e8e",
   "metadata": {},
   "outputs": [],
   "source": [
    "X_maintest.drop(['clear_date'],axis=1,inplace=True)\n",
    "X_maintest.drop(['posting_date'],axis=1 , inplace=True)\n",
    "X_maintest.drop(['due_in_date'],axis=1 , inplace=True)\n",
    "X_maintest['total_open_amount']=X_maintest['total_open_amount'].astype(int)"
   ]
  },
  {
   "cell_type": "code",
   "execution_count": 40,
   "id": "699a96c1",
   "metadata": {},
   "outputs": [
    {
     "name": "stdout",
     "output_type": "stream",
     "text": [
      "<class 'pandas.core.frame.DataFrame'>\n",
      "Int64Index: 31268 entries, 12505 to 3081\n",
      "Data columns (total 8 columns):\n",
      " #   Column             Non-Null Count  Dtype\n",
      "---  ------             --------------  -----\n",
      " 0   total_open_amount  31268 non-null  int32\n",
      " 1   due_day            31268 non-null  int64\n",
      " 2   due_month          31268 non-null  int64\n",
      " 3   due_year           31268 non-null  int64\n",
      " 4   b_enc              31268 non-null  int32\n",
      " 5   terms_enc          31268 non-null  int32\n",
      " 6   name_enc           31268 non-null  int32\n",
      " 7   curr_enc           31268 non-null  int32\n",
      "dtypes: int32(5), int64(3)\n",
      "memory usage: 1.6 MB\n"
     ]
    }
   ],
   "source": [
    "X_train.info()"
   ]
  },
  {
   "cell_type": "code",
   "execution_count": 41,
   "id": "f58415cd",
   "metadata": {},
   "outputs": [
    {
     "name": "stdout",
     "output_type": "stream",
     "text": [
      "<class 'pandas.core.frame.DataFrame'>\n",
      "Int64Index: 9667 entries, 39132 to 46974\n",
      "Data columns (total 8 columns):\n",
      " #   Column             Non-Null Count  Dtype\n",
      "---  ------             --------------  -----\n",
      " 0   total_open_amount  9667 non-null   int32\n",
      " 1   due_day            9667 non-null   int64\n",
      " 2   due_month          9667 non-null   int64\n",
      " 3   due_year           9667 non-null   int64\n",
      " 4   b_enc              9667 non-null   int32\n",
      " 5   terms_enc          9667 non-null   int32\n",
      " 6   name_enc           9667 non-null   int32\n",
      " 7   curr_enc           9667 non-null   int32\n",
      "dtypes: int32(5), int64(3)\n",
      "memory usage: 490.9 KB\n"
     ]
    }
   ],
   "source": [
    "X_maintest.info()"
   ]
  },
  {
   "cell_type": "markdown",
   "id": "a6b47d1c",
   "metadata": {},
   "source": [
    "# Final Prediction on X_maintest"
   ]
  },
  {
   "cell_type": "code",
   "execution_count": 42,
   "id": "103156c2",
   "metadata": {},
   "outputs": [],
   "source": [
    "result = regressor.predict(X_maintest)\n",
    "result = pd.Series(result,name='delay')"
   ]
  },
  {
   "cell_type": "code",
   "execution_count": 43,
   "id": "ecb80d06",
   "metadata": {},
   "outputs": [],
   "source": [
    "main_test.reset_index(drop=True,inplace=True)"
   ]
  },
  {
   "cell_type": "code",
   "execution_count": 44,
   "id": "46568eae",
   "metadata": {},
   "outputs": [],
   "source": [
    "Output = main_test.merge(result , on = X_maintest.index )"
   ]
  },
  {
   "cell_type": "code",
   "execution_count": 45,
   "id": "b1523e69",
   "metadata": {},
   "outputs": [
    {
     "data": {
      "text/plain": [
       "array([ -6.39393939,   3.90613267,   0.77777778,   0.22350922,\n",
       "         1.6689847 ,   1.86743516,   2.71794872, -16.83333333,\n",
       "        -2.97272727,  -5.87931034,  -9.        ,  26.83333333,\n",
       "        38.66666667, -15.        ,   3.84615385,  10.        ,\n",
       "         7.33333333, -19.        ,  95.        ,   2.73846154,\n",
       "         0.82012148])"
      ]
     },
     "execution_count": 45,
     "metadata": {},
     "output_type": "execute_result"
    }
   ],
   "source": [
    "Output.delay.unique()"
   ]
  },
  {
   "cell_type": "code",
   "execution_count": 46,
   "id": "82771012",
   "metadata": {},
   "outputs": [],
   "source": [
    "Output.delay=Output.delay.astype(int)"
   ]
  },
  {
   "cell_type": "code",
   "execution_count": 47,
   "id": "9ce6880f",
   "metadata": {},
   "outputs": [
    {
     "data": {
      "text/html": [
       "<div>\n",
       "<style scoped>\n",
       "    .dataframe tbody tr th:only-of-type {\n",
       "        vertical-align: middle;\n",
       "    }\n",
       "\n",
       "    .dataframe tbody tr th {\n",
       "        vertical-align: top;\n",
       "    }\n",
       "\n",
       "    .dataframe thead th {\n",
       "        text-align: right;\n",
       "    }\n",
       "</style>\n",
       "<table border=\"1\" class=\"dataframe\">\n",
       "  <thead>\n",
       "    <tr style=\"text-align: right;\">\n",
       "      <th></th>\n",
       "      <th>key_0</th>\n",
       "      <th>business_code</th>\n",
       "      <th>name_customer</th>\n",
       "      <th>clear_date</th>\n",
       "      <th>posting_date</th>\n",
       "      <th>due_in_date</th>\n",
       "      <th>invoice_currency</th>\n",
       "      <th>total_open_amount</th>\n",
       "      <th>cust_payment_terms</th>\n",
       "      <th>due_day</th>\n",
       "      <th>due_month</th>\n",
       "      <th>due_year</th>\n",
       "      <th>delay</th>\n",
       "    </tr>\n",
       "  </thead>\n",
       "  <tbody>\n",
       "    <tr>\n",
       "      <th>0</th>\n",
       "      <td>39132</td>\n",
       "      <td>U001</td>\n",
       "      <td>MCLANE co</td>\n",
       "      <td>NaT</td>\n",
       "      <td>2020-02-27</td>\n",
       "      <td>2020-03-13</td>\n",
       "      <td>USD</td>\n",
       "      <td>19813.50</td>\n",
       "      <td>NAA8</td>\n",
       "      <td>13</td>\n",
       "      <td>3</td>\n",
       "      <td>2020</td>\n",
       "      <td>-6</td>\n",
       "    </tr>\n",
       "    <tr>\n",
       "      <th>1</th>\n",
       "      <td>27480</td>\n",
       "      <td>CA02</td>\n",
       "      <td>METRO  in</td>\n",
       "      <td>NaT</td>\n",
       "      <td>2020-02-27</td>\n",
       "      <td>2020-03-08</td>\n",
       "      <td>CAD</td>\n",
       "      <td>71183.82</td>\n",
       "      <td>CA10</td>\n",
       "      <td>8</td>\n",
       "      <td>3</td>\n",
       "      <td>2020</td>\n",
       "      <td>3</td>\n",
       "    </tr>\n",
       "    <tr>\n",
       "      <th>2</th>\n",
       "      <td>11706</td>\n",
       "      <td>U001</td>\n",
       "      <td>FOOD  systems</td>\n",
       "      <td>NaT</td>\n",
       "      <td>2020-02-27</td>\n",
       "      <td>2020-03-13</td>\n",
       "      <td>USD</td>\n",
       "      <td>10174.64</td>\n",
       "      <td>NAA8</td>\n",
       "      <td>13</td>\n",
       "      <td>3</td>\n",
       "      <td>2020</td>\n",
       "      <td>0</td>\n",
       "    </tr>\n",
       "    <tr>\n",
       "      <th>3</th>\n",
       "      <td>3385</td>\n",
       "      <td>U001</td>\n",
       "      <td>WAL-MAR trust</td>\n",
       "      <td>NaT</td>\n",
       "      <td>2020-02-27</td>\n",
       "      <td>2020-03-13</td>\n",
       "      <td>USD</td>\n",
       "      <td>6868.40</td>\n",
       "      <td>NAH4</td>\n",
       "      <td>13</td>\n",
       "      <td>3</td>\n",
       "      <td>2020</td>\n",
       "      <td>0</td>\n",
       "    </tr>\n",
       "    <tr>\n",
       "      <th>4</th>\n",
       "      <td>5048</td>\n",
       "      <td>U001</td>\n",
       "      <td>SA in</td>\n",
       "      <td>NaT</td>\n",
       "      <td>2020-02-27</td>\n",
       "      <td>2020-04-12</td>\n",
       "      <td>USD</td>\n",
       "      <td>100077.67</td>\n",
       "      <td>NAWP</td>\n",
       "      <td>12</td>\n",
       "      <td>4</td>\n",
       "      <td>2020</td>\n",
       "      <td>1</td>\n",
       "    </tr>\n",
       "    <tr>\n",
       "      <th>...</th>\n",
       "      <td>...</td>\n",
       "      <td>...</td>\n",
       "      <td>...</td>\n",
       "      <td>...</td>\n",
       "      <td>...</td>\n",
       "      <td>...</td>\n",
       "      <td>...</td>\n",
       "      <td>...</td>\n",
       "      <td>...</td>\n",
       "      <td>...</td>\n",
       "      <td>...</td>\n",
       "      <td>...</td>\n",
       "      <td>...</td>\n",
       "    </tr>\n",
       "    <tr>\n",
       "      <th>9662</th>\n",
       "      <td>17403</td>\n",
       "      <td>U001</td>\n",
       "      <td>SHAM co</td>\n",
       "      <td>NaT</td>\n",
       "      <td>2020-05-15</td>\n",
       "      <td>2020-05-30</td>\n",
       "      <td>USD</td>\n",
       "      <td>19798.67</td>\n",
       "      <td>NAA8</td>\n",
       "      <td>30</td>\n",
       "      <td>5</td>\n",
       "      <td>2020</td>\n",
       "      <td>-6</td>\n",
       "    </tr>\n",
       "    <tr>\n",
       "      <th>9663</th>\n",
       "      <td>47686</td>\n",
       "      <td>U001</td>\n",
       "      <td>NATURA llc</td>\n",
       "      <td>NaT</td>\n",
       "      <td>2020-05-16</td>\n",
       "      <td>2020-05-31</td>\n",
       "      <td>USD</td>\n",
       "      <td>14698.55</td>\n",
       "      <td>NAA8</td>\n",
       "      <td>31</td>\n",
       "      <td>5</td>\n",
       "      <td>2020</td>\n",
       "      <td>-6</td>\n",
       "    </tr>\n",
       "    <tr>\n",
       "      <th>9664</th>\n",
       "      <td>25391</td>\n",
       "      <td>U001</td>\n",
       "      <td>MAINES systems</td>\n",
       "      <td>NaT</td>\n",
       "      <td>2020-05-18</td>\n",
       "      <td>2020-06-02</td>\n",
       "      <td>USD</td>\n",
       "      <td>16099.20</td>\n",
       "      <td>NAA8</td>\n",
       "      <td>2</td>\n",
       "      <td>6</td>\n",
       "      <td>2020</td>\n",
       "      <td>-6</td>\n",
       "    </tr>\n",
       "    <tr>\n",
       "      <th>9665</th>\n",
       "      <td>24958</td>\n",
       "      <td>U001</td>\n",
       "      <td>MAINES  systems</td>\n",
       "      <td>NaT</td>\n",
       "      <td>2020-05-18</td>\n",
       "      <td>2020-06-02</td>\n",
       "      <td>USD</td>\n",
       "      <td>20756.50</td>\n",
       "      <td>NAA8</td>\n",
       "      <td>2</td>\n",
       "      <td>6</td>\n",
       "      <td>2020</td>\n",
       "      <td>-6</td>\n",
       "    </tr>\n",
       "    <tr>\n",
       "      <th>9666</th>\n",
       "      <td>46974</td>\n",
       "      <td>U001</td>\n",
       "      <td>PRES corporation</td>\n",
       "      <td>NaT</td>\n",
       "      <td>2020-05-19</td>\n",
       "      <td>2020-05-29</td>\n",
       "      <td>USD</td>\n",
       "      <td>402.50</td>\n",
       "      <td>NA10</td>\n",
       "      <td>29</td>\n",
       "      <td>5</td>\n",
       "      <td>2020</td>\n",
       "      <td>2</td>\n",
       "    </tr>\n",
       "  </tbody>\n",
       "</table>\n",
       "<p>9667 rows × 13 columns</p>\n",
       "</div>"
      ],
      "text/plain": [
       "      key_0 business_code     name_customer clear_date posting_date  \\\n",
       "0     39132          U001         MCLANE co        NaT   2020-02-27   \n",
       "1     27480          CA02         METRO  in        NaT   2020-02-27   \n",
       "2     11706          U001     FOOD  systems        NaT   2020-02-27   \n",
       "3      3385          U001     WAL-MAR trust        NaT   2020-02-27   \n",
       "4      5048          U001             SA in        NaT   2020-02-27   \n",
       "...     ...           ...               ...        ...          ...   \n",
       "9662  17403          U001           SHAM co        NaT   2020-05-15   \n",
       "9663  47686          U001        NATURA llc        NaT   2020-05-16   \n",
       "9664  25391          U001    MAINES systems        NaT   2020-05-18   \n",
       "9665  24958          U001   MAINES  systems        NaT   2020-05-18   \n",
       "9666  46974          U001  PRES corporation        NaT   2020-05-19   \n",
       "\n",
       "     due_in_date invoice_currency  total_open_amount cust_payment_terms  \\\n",
       "0     2020-03-13              USD           19813.50               NAA8   \n",
       "1     2020-03-08              CAD           71183.82               CA10   \n",
       "2     2020-03-13              USD           10174.64               NAA8   \n",
       "3     2020-03-13              USD            6868.40               NAH4   \n",
       "4     2020-04-12              USD          100077.67               NAWP   \n",
       "...          ...              ...                ...                ...   \n",
       "9662  2020-05-30              USD           19798.67               NAA8   \n",
       "9663  2020-05-31              USD           14698.55               NAA8   \n",
       "9664  2020-06-02              USD           16099.20               NAA8   \n",
       "9665  2020-06-02              USD           20756.50               NAA8   \n",
       "9666  2020-05-29              USD             402.50               NA10   \n",
       "\n",
       "      due_day  due_month  due_year  delay  \n",
       "0          13          3      2020     -6  \n",
       "1           8          3      2020      3  \n",
       "2          13          3      2020      0  \n",
       "3          13          3      2020      0  \n",
       "4          12          4      2020      1  \n",
       "...       ...        ...       ...    ...  \n",
       "9662       30          5      2020     -6  \n",
       "9663       31          5      2020     -6  \n",
       "9664        2          6      2020     -6  \n",
       "9665        2          6      2020     -6  \n",
       "9666       29          5      2020      2  \n",
       "\n",
       "[9667 rows x 13 columns]"
      ]
     },
     "execution_count": 47,
     "metadata": {},
     "output_type": "execute_result"
    }
   ],
   "source": [
    "Output"
   ]
  },
  {
   "cell_type": "markdown",
   "id": "1043b460",
   "metadata": {},
   "source": [
    "### Forming and assigning value to clear_date"
   ]
  },
  {
   "cell_type": "code",
   "execution_count": 48,
   "id": "ddaecf35",
   "metadata": {},
   "outputs": [],
   "source": [
    "Output['clear_date']=Output['due_in_date']"
   ]
  },
  {
   "cell_type": "code",
   "execution_count": 49,
   "id": "47644e95",
   "metadata": {},
   "outputs": [],
   "source": [
    "temp = Output['delay'].apply(lambda x: pd.Timedelta(x, unit='D'))\n",
    "Output['clear_date'] = Output['clear_date'] + temp"
   ]
  },
  {
   "cell_type": "code",
   "execution_count": 50,
   "id": "ce799652",
   "metadata": {},
   "outputs": [],
   "source": [
    "Output.drop(['due_day'],axis=1,inplace=True)\n",
    "Output.drop(['due_month'],axis=1,inplace=True)\n",
    "Output.drop(['due_year'],axis=1,inplace=True)"
   ]
  },
  {
   "cell_type": "code",
   "execution_count": 51,
   "id": "27dd3dce",
   "metadata": {},
   "outputs": [
    {
     "data": {
      "text/html": [
       "<div>\n",
       "<style scoped>\n",
       "    .dataframe tbody tr th:only-of-type {\n",
       "        vertical-align: middle;\n",
       "    }\n",
       "\n",
       "    .dataframe tbody tr th {\n",
       "        vertical-align: top;\n",
       "    }\n",
       "\n",
       "    .dataframe thead th {\n",
       "        text-align: right;\n",
       "    }\n",
       "</style>\n",
       "<table border=\"1\" class=\"dataframe\">\n",
       "  <thead>\n",
       "    <tr style=\"text-align: right;\">\n",
       "      <th></th>\n",
       "      <th>key_0</th>\n",
       "      <th>business_code</th>\n",
       "      <th>name_customer</th>\n",
       "      <th>clear_date</th>\n",
       "      <th>posting_date</th>\n",
       "      <th>due_in_date</th>\n",
       "      <th>invoice_currency</th>\n",
       "      <th>total_open_amount</th>\n",
       "      <th>cust_payment_terms</th>\n",
       "      <th>delay</th>\n",
       "    </tr>\n",
       "  </thead>\n",
       "  <tbody>\n",
       "    <tr>\n",
       "      <th>0</th>\n",
       "      <td>39132</td>\n",
       "      <td>U001</td>\n",
       "      <td>MCLANE co</td>\n",
       "      <td>2020-03-07</td>\n",
       "      <td>2020-02-27</td>\n",
       "      <td>2020-03-13</td>\n",
       "      <td>USD</td>\n",
       "      <td>19813.50</td>\n",
       "      <td>NAA8</td>\n",
       "      <td>-6</td>\n",
       "    </tr>\n",
       "    <tr>\n",
       "      <th>1</th>\n",
       "      <td>27480</td>\n",
       "      <td>CA02</td>\n",
       "      <td>METRO  in</td>\n",
       "      <td>2020-03-11</td>\n",
       "      <td>2020-02-27</td>\n",
       "      <td>2020-03-08</td>\n",
       "      <td>CAD</td>\n",
       "      <td>71183.82</td>\n",
       "      <td>CA10</td>\n",
       "      <td>3</td>\n",
       "    </tr>\n",
       "    <tr>\n",
       "      <th>2</th>\n",
       "      <td>11706</td>\n",
       "      <td>U001</td>\n",
       "      <td>FOOD  systems</td>\n",
       "      <td>2020-03-13</td>\n",
       "      <td>2020-02-27</td>\n",
       "      <td>2020-03-13</td>\n",
       "      <td>USD</td>\n",
       "      <td>10174.64</td>\n",
       "      <td>NAA8</td>\n",
       "      <td>0</td>\n",
       "    </tr>\n",
       "    <tr>\n",
       "      <th>3</th>\n",
       "      <td>3385</td>\n",
       "      <td>U001</td>\n",
       "      <td>WAL-MAR trust</td>\n",
       "      <td>2020-03-13</td>\n",
       "      <td>2020-02-27</td>\n",
       "      <td>2020-03-13</td>\n",
       "      <td>USD</td>\n",
       "      <td>6868.40</td>\n",
       "      <td>NAH4</td>\n",
       "      <td>0</td>\n",
       "    </tr>\n",
       "    <tr>\n",
       "      <th>4</th>\n",
       "      <td>5048</td>\n",
       "      <td>U001</td>\n",
       "      <td>SA in</td>\n",
       "      <td>2020-04-13</td>\n",
       "      <td>2020-02-27</td>\n",
       "      <td>2020-04-12</td>\n",
       "      <td>USD</td>\n",
       "      <td>100077.67</td>\n",
       "      <td>NAWP</td>\n",
       "      <td>1</td>\n",
       "    </tr>\n",
       "    <tr>\n",
       "      <th>...</th>\n",
       "      <td>...</td>\n",
       "      <td>...</td>\n",
       "      <td>...</td>\n",
       "      <td>...</td>\n",
       "      <td>...</td>\n",
       "      <td>...</td>\n",
       "      <td>...</td>\n",
       "      <td>...</td>\n",
       "      <td>...</td>\n",
       "      <td>...</td>\n",
       "    </tr>\n",
       "    <tr>\n",
       "      <th>9662</th>\n",
       "      <td>17403</td>\n",
       "      <td>U001</td>\n",
       "      <td>SHAM co</td>\n",
       "      <td>2020-05-24</td>\n",
       "      <td>2020-05-15</td>\n",
       "      <td>2020-05-30</td>\n",
       "      <td>USD</td>\n",
       "      <td>19798.67</td>\n",
       "      <td>NAA8</td>\n",
       "      <td>-6</td>\n",
       "    </tr>\n",
       "    <tr>\n",
       "      <th>9663</th>\n",
       "      <td>47686</td>\n",
       "      <td>U001</td>\n",
       "      <td>NATURA llc</td>\n",
       "      <td>2020-05-25</td>\n",
       "      <td>2020-05-16</td>\n",
       "      <td>2020-05-31</td>\n",
       "      <td>USD</td>\n",
       "      <td>14698.55</td>\n",
       "      <td>NAA8</td>\n",
       "      <td>-6</td>\n",
       "    </tr>\n",
       "    <tr>\n",
       "      <th>9664</th>\n",
       "      <td>25391</td>\n",
       "      <td>U001</td>\n",
       "      <td>MAINES systems</td>\n",
       "      <td>2020-05-27</td>\n",
       "      <td>2020-05-18</td>\n",
       "      <td>2020-06-02</td>\n",
       "      <td>USD</td>\n",
       "      <td>16099.20</td>\n",
       "      <td>NAA8</td>\n",
       "      <td>-6</td>\n",
       "    </tr>\n",
       "    <tr>\n",
       "      <th>9665</th>\n",
       "      <td>24958</td>\n",
       "      <td>U001</td>\n",
       "      <td>MAINES  systems</td>\n",
       "      <td>2020-05-27</td>\n",
       "      <td>2020-05-18</td>\n",
       "      <td>2020-06-02</td>\n",
       "      <td>USD</td>\n",
       "      <td>20756.50</td>\n",
       "      <td>NAA8</td>\n",
       "      <td>-6</td>\n",
       "    </tr>\n",
       "    <tr>\n",
       "      <th>9666</th>\n",
       "      <td>46974</td>\n",
       "      <td>U001</td>\n",
       "      <td>PRES corporation</td>\n",
       "      <td>2020-05-31</td>\n",
       "      <td>2020-05-19</td>\n",
       "      <td>2020-05-29</td>\n",
       "      <td>USD</td>\n",
       "      <td>402.50</td>\n",
       "      <td>NA10</td>\n",
       "      <td>2</td>\n",
       "    </tr>\n",
       "  </tbody>\n",
       "</table>\n",
       "<p>9667 rows × 10 columns</p>\n",
       "</div>"
      ],
      "text/plain": [
       "      key_0 business_code     name_customer clear_date posting_date  \\\n",
       "0     39132          U001         MCLANE co 2020-03-07   2020-02-27   \n",
       "1     27480          CA02         METRO  in 2020-03-11   2020-02-27   \n",
       "2     11706          U001     FOOD  systems 2020-03-13   2020-02-27   \n",
       "3      3385          U001     WAL-MAR trust 2020-03-13   2020-02-27   \n",
       "4      5048          U001             SA in 2020-04-13   2020-02-27   \n",
       "...     ...           ...               ...        ...          ...   \n",
       "9662  17403          U001           SHAM co 2020-05-24   2020-05-15   \n",
       "9663  47686          U001        NATURA llc 2020-05-25   2020-05-16   \n",
       "9664  25391          U001    MAINES systems 2020-05-27   2020-05-18   \n",
       "9665  24958          U001   MAINES  systems 2020-05-27   2020-05-18   \n",
       "9666  46974          U001  PRES corporation 2020-05-31   2020-05-19   \n",
       "\n",
       "     due_in_date invoice_currency  total_open_amount cust_payment_terms  delay  \n",
       "0     2020-03-13              USD           19813.50               NAA8     -6  \n",
       "1     2020-03-08              CAD           71183.82               CA10      3  \n",
       "2     2020-03-13              USD           10174.64               NAA8      0  \n",
       "3     2020-03-13              USD            6868.40               NAH4      0  \n",
       "4     2020-04-12              USD          100077.67               NAWP      1  \n",
       "...          ...              ...                ...                ...    ...  \n",
       "9662  2020-05-30              USD           19798.67               NAA8     -6  \n",
       "9663  2020-05-31              USD           14698.55               NAA8     -6  \n",
       "9664  2020-06-02              USD           16099.20               NAA8     -6  \n",
       "9665  2020-06-02              USD           20756.50               NAA8     -6  \n",
       "9666  2020-05-29              USD             402.50               NA10      2  \n",
       "\n",
       "[9667 rows x 10 columns]"
      ]
     },
     "execution_count": 51,
     "metadata": {},
     "output_type": "execute_result"
    }
   ],
   "source": [
    "Output"
   ]
  },
  {
   "cell_type": "markdown",
   "id": "db0594c5",
   "metadata": {},
   "source": [
    "## Forming Buckets"
   ]
  },
  {
   "cell_type": "code",
   "execution_count": 52,
   "id": "66c6755c",
   "metadata": {},
   "outputs": [
    {
     "data": {
      "text/html": [
       "<div>\n",
       "<style scoped>\n",
       "    .dataframe tbody tr th:only-of-type {\n",
       "        vertical-align: middle;\n",
       "    }\n",
       "\n",
       "    .dataframe tbody tr th {\n",
       "        vertical-align: top;\n",
       "    }\n",
       "\n",
       "    .dataframe thead th {\n",
       "        text-align: right;\n",
       "    }\n",
       "</style>\n",
       "<table border=\"1\" class=\"dataframe\">\n",
       "  <thead>\n",
       "    <tr style=\"text-align: right;\">\n",
       "      <th></th>\n",
       "      <th>key_0</th>\n",
       "      <th>business_code</th>\n",
       "      <th>name_customer</th>\n",
       "      <th>clear_date</th>\n",
       "      <th>posting_date</th>\n",
       "      <th>due_in_date</th>\n",
       "      <th>invoice_currency</th>\n",
       "      <th>total_open_amount</th>\n",
       "      <th>cust_payment_terms</th>\n",
       "      <th>delay</th>\n",
       "      <th>bucket</th>\n",
       "    </tr>\n",
       "  </thead>\n",
       "  <tbody>\n",
       "    <tr>\n",
       "      <th>0</th>\n",
       "      <td>39132</td>\n",
       "      <td>U001</td>\n",
       "      <td>MCLANE co</td>\n",
       "      <td>2020-03-07</td>\n",
       "      <td>2020-02-27</td>\n",
       "      <td>2020-03-13</td>\n",
       "      <td>USD</td>\n",
       "      <td>19813.50</td>\n",
       "      <td>NAA8</td>\n",
       "      <td>-6</td>\n",
       "      <td>2</td>\n",
       "    </tr>\n",
       "    <tr>\n",
       "      <th>1</th>\n",
       "      <td>27480</td>\n",
       "      <td>CA02</td>\n",
       "      <td>METRO  in</td>\n",
       "      <td>2020-03-11</td>\n",
       "      <td>2020-02-27</td>\n",
       "      <td>2020-03-08</td>\n",
       "      <td>CAD</td>\n",
       "      <td>71183.82</td>\n",
       "      <td>CA10</td>\n",
       "      <td>3</td>\n",
       "      <td>3</td>\n",
       "    </tr>\n",
       "    <tr>\n",
       "      <th>2</th>\n",
       "      <td>11706</td>\n",
       "      <td>U001</td>\n",
       "      <td>FOOD  systems</td>\n",
       "      <td>2020-03-13</td>\n",
       "      <td>2020-02-27</td>\n",
       "      <td>2020-03-13</td>\n",
       "      <td>USD</td>\n",
       "      <td>10174.64</td>\n",
       "      <td>NAA8</td>\n",
       "      <td>0</td>\n",
       "      <td>2</td>\n",
       "    </tr>\n",
       "    <tr>\n",
       "      <th>3</th>\n",
       "      <td>3385</td>\n",
       "      <td>U001</td>\n",
       "      <td>WAL-MAR trust</td>\n",
       "      <td>2020-03-13</td>\n",
       "      <td>2020-02-27</td>\n",
       "      <td>2020-03-13</td>\n",
       "      <td>USD</td>\n",
       "      <td>6868.40</td>\n",
       "      <td>NAH4</td>\n",
       "      <td>0</td>\n",
       "      <td>2</td>\n",
       "    </tr>\n",
       "    <tr>\n",
       "      <th>4</th>\n",
       "      <td>5048</td>\n",
       "      <td>U001</td>\n",
       "      <td>SA in</td>\n",
       "      <td>2020-04-13</td>\n",
       "      <td>2020-02-27</td>\n",
       "      <td>2020-04-12</td>\n",
       "      <td>USD</td>\n",
       "      <td>100077.67</td>\n",
       "      <td>NAWP</td>\n",
       "      <td>1</td>\n",
       "      <td>3</td>\n",
       "    </tr>\n",
       "    <tr>\n",
       "      <th>...</th>\n",
       "      <td>...</td>\n",
       "      <td>...</td>\n",
       "      <td>...</td>\n",
       "      <td>...</td>\n",
       "      <td>...</td>\n",
       "      <td>...</td>\n",
       "      <td>...</td>\n",
       "      <td>...</td>\n",
       "      <td>...</td>\n",
       "      <td>...</td>\n",
       "      <td>...</td>\n",
       "    </tr>\n",
       "    <tr>\n",
       "      <th>9662</th>\n",
       "      <td>17403</td>\n",
       "      <td>U001</td>\n",
       "      <td>SHAM co</td>\n",
       "      <td>2020-05-24</td>\n",
       "      <td>2020-05-15</td>\n",
       "      <td>2020-05-30</td>\n",
       "      <td>USD</td>\n",
       "      <td>19798.67</td>\n",
       "      <td>NAA8</td>\n",
       "      <td>-6</td>\n",
       "      <td>2</td>\n",
       "    </tr>\n",
       "    <tr>\n",
       "      <th>9663</th>\n",
       "      <td>47686</td>\n",
       "      <td>U001</td>\n",
       "      <td>NATURA llc</td>\n",
       "      <td>2020-05-25</td>\n",
       "      <td>2020-05-16</td>\n",
       "      <td>2020-05-31</td>\n",
       "      <td>USD</td>\n",
       "      <td>14698.55</td>\n",
       "      <td>NAA8</td>\n",
       "      <td>-6</td>\n",
       "      <td>2</td>\n",
       "    </tr>\n",
       "    <tr>\n",
       "      <th>9664</th>\n",
       "      <td>25391</td>\n",
       "      <td>U001</td>\n",
       "      <td>MAINES systems</td>\n",
       "      <td>2020-05-27</td>\n",
       "      <td>2020-05-18</td>\n",
       "      <td>2020-06-02</td>\n",
       "      <td>USD</td>\n",
       "      <td>16099.20</td>\n",
       "      <td>NAA8</td>\n",
       "      <td>-6</td>\n",
       "      <td>2</td>\n",
       "    </tr>\n",
       "    <tr>\n",
       "      <th>9665</th>\n",
       "      <td>24958</td>\n",
       "      <td>U001</td>\n",
       "      <td>MAINES  systems</td>\n",
       "      <td>2020-05-27</td>\n",
       "      <td>2020-05-18</td>\n",
       "      <td>2020-06-02</td>\n",
       "      <td>USD</td>\n",
       "      <td>20756.50</td>\n",
       "      <td>NAA8</td>\n",
       "      <td>-6</td>\n",
       "      <td>2</td>\n",
       "    </tr>\n",
       "    <tr>\n",
       "      <th>9666</th>\n",
       "      <td>46974</td>\n",
       "      <td>U001</td>\n",
       "      <td>PRES corporation</td>\n",
       "      <td>2020-05-31</td>\n",
       "      <td>2020-05-19</td>\n",
       "      <td>2020-05-29</td>\n",
       "      <td>USD</td>\n",
       "      <td>402.50</td>\n",
       "      <td>NA10</td>\n",
       "      <td>2</td>\n",
       "      <td>3</td>\n",
       "    </tr>\n",
       "  </tbody>\n",
       "</table>\n",
       "<p>9667 rows × 11 columns</p>\n",
       "</div>"
      ],
      "text/plain": [
       "      key_0 business_code     name_customer clear_date posting_date  \\\n",
       "0     39132          U001         MCLANE co 2020-03-07   2020-02-27   \n",
       "1     27480          CA02         METRO  in 2020-03-11   2020-02-27   \n",
       "2     11706          U001     FOOD  systems 2020-03-13   2020-02-27   \n",
       "3      3385          U001     WAL-MAR trust 2020-03-13   2020-02-27   \n",
       "4      5048          U001             SA in 2020-04-13   2020-02-27   \n",
       "...     ...           ...               ...        ...          ...   \n",
       "9662  17403          U001           SHAM co 2020-05-24   2020-05-15   \n",
       "9663  47686          U001        NATURA llc 2020-05-25   2020-05-16   \n",
       "9664  25391          U001    MAINES systems 2020-05-27   2020-05-18   \n",
       "9665  24958          U001   MAINES  systems 2020-05-27   2020-05-18   \n",
       "9666  46974          U001  PRES corporation 2020-05-31   2020-05-19   \n",
       "\n",
       "     due_in_date invoice_currency  total_open_amount cust_payment_terms  \\\n",
       "0     2020-03-13              USD           19813.50               NAA8   \n",
       "1     2020-03-08              CAD           71183.82               CA10   \n",
       "2     2020-03-13              USD           10174.64               NAA8   \n",
       "3     2020-03-13              USD            6868.40               NAH4   \n",
       "4     2020-04-12              USD          100077.67               NAWP   \n",
       "...          ...              ...                ...                ...   \n",
       "9662  2020-05-30              USD           19798.67               NAA8   \n",
       "9663  2020-05-31              USD           14698.55               NAA8   \n",
       "9664  2020-06-02              USD           16099.20               NAA8   \n",
       "9665  2020-06-02              USD           20756.50               NAA8   \n",
       "9666  2020-05-29              USD             402.50               NA10   \n",
       "\n",
       "      delay bucket  \n",
       "0        -6      2  \n",
       "1         3      3  \n",
       "2         0      2  \n",
       "3         0      2  \n",
       "4         1      3  \n",
       "...     ...    ...  \n",
       "9662     -6      2  \n",
       "9663     -6      2  \n",
       "9664     -6      2  \n",
       "9665     -6      2  \n",
       "9666      2      3  \n",
       "\n",
       "[9667 rows x 11 columns]"
      ]
     },
     "execution_count": 52,
     "metadata": {},
     "output_type": "execute_result"
    }
   ],
   "source": [
    "bins = [-30, -15, 0, 15, 30, 45, 60, 75, 90, 105]\n",
    "labels =[1,2,3,4,5,6,7,8,9]\n",
    "Output['bucket'] = pd.cut(Output['delay'], bins,labels=labels)\n",
    "Output"
   ]
  },
  {
   "cell_type": "markdown",
   "id": "5c42cbf2",
   "metadata": {},
   "source": [
    "# Hence clear_date on which payment will possibly be done is predicted"
   ]
  }
 ],
 "metadata": {
  "kernelspec": {
   "display_name": "Python 3",
   "language": "python",
   "name": "python3"
  },
  "language_info": {
   "codemirror_mode": {
    "name": "ipython",
    "version": 3
   },
   "file_extension": ".py",
   "mimetype": "text/x-python",
   "name": "python",
   "nbconvert_exporter": "python",
   "pygments_lexer": "ipython3",
   "version": "3.9.5"
  }
 },
 "nbformat": 4,
 "nbformat_minor": 5
}
